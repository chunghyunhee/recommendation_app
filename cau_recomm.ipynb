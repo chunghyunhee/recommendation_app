{
 "cells": [
  {
   "cell_type": "code",
   "execution_count": 1,
   "metadata": {},
   "outputs": [],
   "source": [
    "import pandas as pd\n",
    "\n",
    "df = pd.read_csv('https://github.com/TaewoongKong/code_sharing/blob/master/cau_shops_kakao_edit.csv?raw=True')\n"
   ]
  },
  {
   "cell_type": "code",
   "execution_count": null,
   "metadata": {},
   "outputs": [],
   "source": [
    "df_cosin = df[['카카오지도_상호명', '상권업종중분류명', '상권업종소분류명', '카카오지도_카테고리', '카카오지도_별점_점수', '카카오지도_별점_평가수','카카오지도_블로그_리뷰', '카카오지도_블로그_리뷰수']]"
   ]
  },
  {
   "cell_type": "code",
   "execution_count": null,
   "metadata": {},
   "outputs": [],
   "source": [
    "df_cosin.columns = ['name',  # 상호명\n",
    "                    'cate_1',  \n",
    "                    'cate_2', \n",
    "                    'cate_3',\n",
    "                    'star_point',  # 별점 점수\n",
    "                    'star_qty',  # 별점 평가 횟수\n",
    "                    'review_txt',  # 리뷰 텍스트\n",
    "                    'review_qty'  #  리뷰 횟수 - 유명할수록 많은데 부정적인 평가도 있을 수 있다\n",
    "                   ]"
   ]
  },
  {
   "cell_type": "code",
   "execution_count": null,
   "metadata": {},
   "outputs": [],
   "source": [
    "df_cosin.loc[df_cosin['star_qty'] == 0, 'star_point'] = -1"
   ]
  },
  {
   "cell_type": "code",
   "execution_count": null,
   "metadata": {},
   "outputs": [],
   "source": [
    "df_cosin['cate_mix'] = df_cosin['cate_1'] + df_cosin['cate_2'] + df_cosin['cate_3']"
   ]
  },
  {
   "cell_type": "code",
   "execution_count": null,
   "metadata": {},
   "outputs": [],
   "source": [
    "df_cosin['cate_mix'] = df_cosin['cate_mix'].str.replace(\">\", \" \").str.replace(\"/\", \" \")"
   ]
  },
  {
   "cell_type": "code",
   "execution_count": null,
   "metadata": {},
   "outputs": [],
   "source": [
    "from sklearn.feature_extraction.text import CountVectorizer\n",
    "from sklearn.metrics.pairwise import cosine_similarity\n",
    "\n",
    "\n",
    "# 리뷰의 유사도 학습\n",
    "\n",
    "\n",
    "count_vect_review = CountVectorizer(min_df=2, ngram_range=(1,2))\n",
    "place_review = count_vect_review.fit_transform(df_cosin['review_txt']) \n",
    "place_simi_review = cosine_similarity(place_review, place_review)\n",
    "place_simi_review_sorted_ind = place_simi_review.argsort()[:, ::-1]\n",
    "\n",
    "# 카테고리의 유사도 학습\n",
    "\n",
    "count_vect_category = CountVectorizer(min_df=0, ngram_range=(1,2))\n",
    "place_category = count_vect_category.fit_transform(df_cosin['cate_mix']) \n",
    "place_simi_cate = cosine_similarity(place_category, place_category) \n",
    "place_simi_cate_sorted_ind = place_simi_cate.argsort()[:, ::-1] \n",
    "\n",
    "# 별점 평가 횟수\n",
    "\n",
    "\n",
    "\n",
    "\n",
    "# 카테고리와 리뷰의 중요성을 짬뽕시키는 공식\n",
    "place_simi_co = (place_simi_review \n",
    "                 + place_simi_cate*0.3  # 리뷰 유사도는 0.1만큼 반영\n",
    "                 + np.repeat([df_cosin['star_qty'].values], len(df_cosin['star_qty']) , axis=0) * 0.001  # 별점평가 갯수\n",
    "                )\n",
    "\n",
    "place_simi_co_sorted_ind = place_simi_co.argsort()[:, ::-1] \n",
    "\n",
    "\n",
    "def find_simi_place(df, sorted_ind, place_name, top_n=10):\n",
    "    \n",
    "    place_title = df[df['name'] == place_name]\n",
    "    place_index = place_title.index.values\n",
    "    similar_indexes = sorted_ind[place_index, :(top_n)]\n",
    "    similar_indexes = similar_indexes.reshape(-1)\n",
    "    return df.iloc[similar_indexes]\n",
    "\n",
    "\n",
    "def compare_algo(place_df, place_name, num):\n",
    "    d = {'before_name': find_simi_place(place_df, place_simi_review_sorted_ind, place_name ,num)['name'].to_list()[1:],\n",
    "     'before_cate': find_simi_place(place_df, place_simi_review_sorted_ind, place_name ,num)['cate_mix'].to_list()[1:],\n",
    "     'after_name': find_simi_place(place_df, place_simi_co_sorted_ind, place_name,num)['name'].to_list()[1:],\n",
    "     'after_cate': find_simi_place(place_df, place_simi_co_sorted_ind, place_name,num)['cate_mix'].to_list()[1:]}\n",
    "    \n",
    "    return pd.DataFrame(data=d, columns = [\"before_name\", \"before_cate\", \"after_name\", \"after_cate\"])\n",
    "\n"
   ]
  },
  {
   "cell_type": "code",
   "execution_count": null,
   "metadata": {},
   "outputs": [],
   "source": [
    "compare_algo(df_cosin, \"중앙돼지마을\", 15)"
   ]
  }
 ],
 "metadata": {
  "kernelspec": {
   "display_name": "Python 3",
   "language": "python",
   "name": "python3"
  },
  "language_info": {
   "codemirror_mode": {
    "name": "ipython",
    "version": 3
   },
   "file_extension": ".py",
   "mimetype": "text/x-python",
   "name": "python",
   "nbconvert_exporter": "python",
   "pygments_lexer": "ipython3",
   "version": "3.7.4"
  }
 },
 "nbformat": 4,
 "nbformat_minor": 2
}
